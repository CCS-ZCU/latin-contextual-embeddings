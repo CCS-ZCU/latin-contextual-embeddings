{
 "cells": [
  {
   "cell_type": "code",
   "id": "initial_id",
   "metadata": {
    "collapsed": true,
    "ExecuteTime": {
     "end_time": "2024-11-06T21:35:28.168534Z",
     "start_time": "2024-11-06T21:35:28.156678Z"
    }
   },
   "source": [
    "from transformers import MarianMTModel, MarianTokenizer\n",
    "\n",
    "# Load the model and tokenizer for Latin to English translation\n",
    "tr_model_name = 'Helsinki-NLP/opus-mt-la-en'\n",
    "tr_tokenizer = MarianTokenizer.from_pretrained(tr_model_name)\n",
    "tr_model = MarianMTModel.from_pretrained(tr_model_name)\n",
    "\n",
    "# Example Latin text\n",
    "latin_text = \"Veni, vidi, vici.\"\n",
    "\n",
    "# Prepare the text for translation\n",
    "batch = tr_tokenizer([latin_text], return_tensors=\"pt\")\n",
    "\n",
    "# Perform translation\n",
    "translated = tr_model.generate(**batch)\n",
    "translation = tr_tokenizer.batch_decode(translated, skip_special_tokens=True)\n",
    "\n",
    "# Output the translation\n",
    "print(f\"Latin: {latin_text}\")\n",
    "print(f\"English: {translation[0]}\")"
   ],
   "outputs": [
    {
     "ename": "ModuleNotFoundError",
     "evalue": "No module named 'transformers'",
     "output_type": "error",
     "traceback": [
      "\u001B[0;31m---------------------------------------------------------------------------\u001B[0m",
      "\u001B[0;31mModuleNotFoundError\u001B[0m                       Traceback (most recent call last)",
      "Cell \u001B[0;32mIn[1], line 1\u001B[0m\n\u001B[0;32m----> 1\u001B[0m \u001B[38;5;28;01mfrom\u001B[39;00m \u001B[38;5;21;01mtransformers\u001B[39;00m \u001B[38;5;28;01mimport\u001B[39;00m MarianMTModel, MarianTokenizer\n\u001B[1;32m      3\u001B[0m \u001B[38;5;66;03m# Load the model and tokenizer for Latin to English translation\u001B[39;00m\n\u001B[1;32m      4\u001B[0m tr_model_name \u001B[38;5;241m=\u001B[39m \u001B[38;5;124m'\u001B[39m\u001B[38;5;124mHelsinki-NLP/opus-mt-la-en\u001B[39m\u001B[38;5;124m'\u001B[39m\n",
      "\u001B[0;31mModuleNotFoundError\u001B[0m: No module named 'transformers'"
     ]
    }
   ],
   "execution_count": 1
  },
  {
   "metadata": {},
   "cell_type": "code",
   "outputs": [],
   "execution_count": null,
   "source": "",
   "id": "760583db80d3c695"
  }
 ],
 "metadata": {
  "kernelspec": {
   "display_name": "Python 3",
   "language": "python",
   "name": "python3"
  },
  "language_info": {
   "codemirror_mode": {
    "name": "ipython",
    "version": 2
   },
   "file_extension": ".py",
   "mimetype": "text/x-python",
   "name": "python",
   "nbconvert_exporter": "python",
   "pygments_lexer": "ipython2",
   "version": "2.7.6"
  }
 },
 "nbformat": 4,
 "nbformat_minor": 5
}
