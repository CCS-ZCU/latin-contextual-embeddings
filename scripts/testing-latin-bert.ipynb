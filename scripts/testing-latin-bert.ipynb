{
 "cells": [
  {
   "cell_type": "code",
   "execution_count": 2,
   "outputs": [],
   "source": [
    "import shutil\n",
    "import re\n",
    "import os\n",
    "os.environ['TOKENIZERS_PARALLELISM'] = \"true\"\n",
    "from transformers import AutoTokenizer, AutoModelForMaskedLM\n",
    "from cltk.sentence.lat import LatinPunktSentenceTokenizer\n",
    "import torch\n",
    "from torch.nn.utils.rnn import pad_sequence"
   ],
   "metadata": {
    "collapsed": false,
    "ExecuteTime": {
     "end_time": "2024-01-17T09:21:32.293347Z",
     "start_time": "2024-01-17T09:21:05.343447Z"
    }
   },
   "id": "3148480dc117e454"
  },
  {
   "cell_type": "code",
   "execution_count": 3,
   "outputs": [],
   "source": [
    "tokenizer = AutoTokenizer.from_pretrained(\"pnadel/latin_tokenizer\") #\"pnadel/LatinBERT\")\n",
    "model = AutoModelForMaskedLM.from_pretrained(\"pnadel/LatinBERT\")"
   ],
   "metadata": {
    "collapsed": false,
    "ExecuteTime": {
     "end_time": "2024-01-17T09:21:42.609464Z",
     "start_time": "2024-01-17T09:21:41.034253Z"
    }
   },
   "id": "1bc8946f36ef6aa7"
  },
  {
   "cell_type": "code",
   "execution_count": 4,
   "outputs": [],
   "source": [
    "#!curl https://sciencedata.dk/public/87394f685b79e7f1ebd4a7ead2b4941c/noscemus_raw.zip -o ../data/large_data/noscemus_raw.zip\n",
    "# shutil.unpack_archive(\"../data/large_data/noscemus_raw.zip\", \"../data/large_data/noscemus_raw\")"
   ],
   "metadata": {
    "collapsed": true,
    "ExecuteTime": {
     "end_time": "2024-01-17T09:21:51.534127Z",
     "start_time": "2024-01-17T09:21:51.530815Z"
    }
   },
   "id": "initial_id"
  },
  {
   "cell_type": "code",
   "execution_count": 5,
   "outputs": [],
   "source": [
    "def text_cleaner(rawtext):\n",
    "    cleantext = rawtext.replace(\"¬\\n\", \"\").replace(\"\\n\", \" \").replace(\"ß\", \"ss\").replace(\"ij\",\"ii\")\n",
    "    cleantext = \" \".join([t[0] + t[1:].lower() for t in cleantext.split()])\n",
    "    cleantext = re.sub(\"\\s\\s+\", \" \", cleantext)\n",
    "    return cleantext"
   ],
   "metadata": {
    "collapsed": false,
    "ExecuteTime": {
     "end_time": "2024-01-17T09:21:53.711340Z",
     "start_time": "2024-01-17T09:21:53.707728Z"
    }
   },
   "id": "eada64539581477b"
  },
  {
   "cell_type": "code",
   "execution_count": 6,
   "outputs": [],
   "source": [
    "filenames = os.listdir(\"../data/large_data/noscemus_raw\")"
   ],
   "metadata": {
    "collapsed": false,
    "ExecuteTime": {
     "end_time": "2024-01-17T09:21:55.162594Z",
     "start_time": "2024-01-17T09:21:55.156579Z"
    }
   },
   "id": "d1f0328e6b4e23ca"
  },
  {
   "cell_type": "code",
   "execution_count": 10,
   "outputs": [
    {
     "data": {
      "text/plain": "'694898.txt'"
     },
     "execution_count": 10,
     "metadata": {},
     "output_type": "execute_result"
    }
   ],
   "source": [
    "fn = filenames[3]\n",
    "fn"
   ],
   "metadata": {
    "collapsed": false,
    "ExecuteTime": {
     "end_time": "2024-01-17T09:22:21.910677Z",
     "start_time": "2024-01-17T09:22:21.905776Z"
    }
   },
   "id": "e9fb1e4b2e52a794"
  },
  {
   "cell_type": "code",
   "execution_count": 11,
   "outputs": [],
   "source": [
    "with open(\"../data/large_data/noscemus_raw/\" + fn, \"r\") as f:\n",
    "    text = f.read()"
   ],
   "metadata": {
    "collapsed": false,
    "ExecuteTime": {
     "end_time": "2024-01-17T09:22:22.444469Z",
     "start_time": "2024-01-17T09:22:22.433815Z"
    }
   },
   "id": "c49fadb96cd8bf01"
  },
  {
   "cell_type": "code",
   "execution_count": 12,
   "outputs": [
    {
     "data": {
      "text/plain": "'V Homae Bartholini De Usu Medico Observationes variae. Accessit D. Erasmi Bartholini Viv E Figura I Dissertatio, cum Operum Authoris Catalogo. E λη λὴν ) Hafniae Typis Matthiae Godicchii, Sumptibus Pe'"
     },
     "execution_count": 12,
     "metadata": {},
     "output_type": "execute_result"
    }
   ],
   "source": [
    "text = text_cleaner(text)\n",
    "text[:200]"
   ],
   "metadata": {
    "collapsed": false,
    "ExecuteTime": {
     "end_time": "2024-01-17T09:22:22.897482Z",
     "start_time": "2024-01-17T09:22:22.889544Z"
    }
   },
   "id": "98182fc18229f0b7"
  },
  {
   "cell_type": "code",
   "execution_count": 13,
   "outputs": [
    {
     "data": {
      "text/plain": "['Accessit D. Erasmi Bartholini Viv E Figura I Dissertatio, cum Operum Authoris Catalogo.',\n 'E λη λὴν ) Hafniae Typis Matthiae Godicchii, Sumptibus Petri Haubold, Bibl.',\n 'cclo Ioc Lxi.']"
     },
     "execution_count": 13,
     "metadata": {},
     "output_type": "execute_result"
    }
   ],
   "source": [
    "corpus = LatinPunktSentenceTokenizer().tokenize(text)\n",
    "corpus[1:4]"
   ],
   "metadata": {
    "collapsed": false,
    "ExecuteTime": {
     "end_time": "2024-01-17T09:22:26.918643Z",
     "start_time": "2024-01-17T09:22:26.620977Z"
    }
   },
   "id": "5fa4fc1758d53a2b"
  },
  {
   "cell_type": "code",
   "execution_count": 14,
   "outputs": [],
   "source": [
    "#tokenizer.pad_token = tokenizer.eos_token\n",
    "tokenized_corpus = [tokenizer.encode(sentence, return_tensors=\"pt\") for sentence in corpus]"
   ],
   "metadata": {
    "collapsed": false,
    "ExecuteTime": {
     "end_time": "2024-01-17T09:22:35.447995Z",
     "start_time": "2024-01-17T09:22:34.678068Z"
    }
   },
   "id": "d7d0b284e39bc727"
  },
  {
   "cell_type": "code",
   "execution_count": 15,
   "outputs": [
    {
     "data": {
      "text/plain": "[tensor([[   18,  1678,    63,     8,   211,   128,  3208,   244,   570,  8995,\n            118,    36,    63,   118,    22,   633,    63, 13041,    77,  5823,\n              6,   201,   177,    78,   198,    23,   500,    83,   145,   425,\n            236,     8]]),\n tensor([[6418,   53, 8490, 6418,   53, 8494,   48, 8492, 1416, 1226,   28,  451,\n            63,   38, 1505,  232,  570,  451, 1417,  127,  380,  657,    6,  746,\n            30,  629,  117,  120,   83,  228,  171,   19,    6,  118,   17,   26,\n             8]]),\n tensor([[  18,   18,  425,  327, 2010,   24,    8]])]"
     },
     "execution_count": 15,
     "metadata": {},
     "output_type": "execute_result"
    }
   ],
   "source": [
    "tokenized_corpus[1:4]"
   ],
   "metadata": {
    "collapsed": false,
    "ExecuteTime": {
     "end_time": "2024-01-17T09:22:36.169135Z",
     "start_time": "2024-01-17T09:22:36.141387Z"
    }
   },
   "id": "258753bf0974f6bd"
  },
  {
   "cell_type": "code",
   "execution_count": 16,
   "outputs": [],
   "source": [
    "max_len = max(len(seq[0]) for seq in tokenized_corpus)\n",
    "padded_corpus = torch.stack([torch.cat([seq, torch.zeros((1, max_len - len(seq[0])))], dim=1) for seq in tokenized_corpus])\n",
    "padded_corpus = padded_corpus.squeeze(1)\n",
    "padded_corpus = padded_corpus.long()"
   ],
   "metadata": {
    "collapsed": false,
    "ExecuteTime": {
     "end_time": "2024-01-17T09:22:59.229335Z",
     "start_time": "2024-01-17T09:22:59.123642Z"
    }
   },
   "id": "3073e76cc4cf36d8"
  },
  {
   "cell_type": "code",
   "execution_count": 17,
   "outputs": [
    {
     "data": {
      "text/plain": "torch.Size([3529, 206])"
     },
     "execution_count": 17,
     "metadata": {},
     "output_type": "execute_result"
    }
   ],
   "source": [
    "padded_corpus.shape"
   ],
   "metadata": {
    "collapsed": false,
    "ExecuteTime": {
     "end_time": "2024-01-17T09:23:00.128167Z",
     "start_time": "2024-01-17T09:23:00.125230Z"
    }
   },
   "id": "4c4efcc0ea097150"
  },
  {
   "cell_type": "code",
   "execution_count": 87,
   "outputs": [],
   "source": [
    "# Pass the padded corpus through the model\n",
    "with torch.no_grad():\n",
    "    outputs = model(input_ids=padded_corpus)"
   ],
   "metadata": {
    "collapsed": false,
    "ExecuteTime": {
     "end_time": "2023-12-13T20:59:44.206921Z",
     "start_time": "2023-12-13T20:50:03.819562Z"
    }
   },
   "id": "11468d545ddd52c6"
  },
  {
   "cell_type": "code",
   "execution_count": 89,
   "outputs": [
    {
     "ename": "TypeError",
     "evalue": "'NoneType' object is not subscriptable",
     "output_type": "error",
     "traceback": [
      "\u001B[0;31m---------------------------------------------------------------------------\u001B[0m",
      "\u001B[0;31mTypeError\u001B[0m                                 Traceback (most recent call last)",
      "Cell \u001B[0;32mIn[89], line 1\u001B[0m\n\u001B[0;32m----> 1\u001B[0m hidden_states \u001B[38;5;241m=\u001B[39m \u001B[43moutputs\u001B[49m\u001B[38;5;241;43m.\u001B[39;49m\u001B[43mhidden_states\u001B[49m\u001B[43m[\u001B[49m\u001B[38;5;241;43m-\u001B[39;49m\u001B[38;5;241;43m1\u001B[39;49m\u001B[43m]\u001B[49m  \u001B[38;5;66;03m# Access the last layer's hidden states\u001B[39;00m\n",
      "\u001B[0;31mTypeError\u001B[0m: 'NoneType' object is not subscriptable"
     ]
    }
   ],
   "source": [
    "hidden_states = outputs.hidden_states[-1]  # Access the last layer's hidden states\n"
   ],
   "metadata": {
    "collapsed": false,
    "ExecuteTime": {
     "end_time": "2023-12-13T21:01:20.789201Z",
     "start_time": "2023-12-13T21:01:20.700014Z"
    }
   },
   "id": "340bca485094bdbd"
  },
  {
   "cell_type": "code",
   "execution_count": 35,
   "outputs": [],
   "source": [
    "mask_token_id = tokenizer.mask_token_id if tokenizer.mask_token_id is not None else tokenizer.add_tokens(\"[MASK]\")\n",
    "\n",
    "tokens = tokenizer.encode(text, return_tensors=\"pt\")"
   ],
   "metadata": {
    "collapsed": false,
    "ExecuteTime": {
     "end_time": "2023-12-12T14:57:09.954652Z",
     "start_time": "2023-12-12T14:57:09.941275Z"
    }
   },
   "id": "6c4b34663b497ff7"
  },
  {
   "cell_type": "code",
   "execution_count": 38,
   "outputs": [],
   "source": [
    "masked_indices = torch.bernoulli(torch.full(tokens.shape, 0.15)).bool()\n",
    "masked_tokens = tokens.clone()\n",
    "# Use torch.where to replace masked tokens\n",
    "masked_tokens = torch.where(masked_indices, torch.tensor(mask_token_id), masked_tokens)"
   ],
   "metadata": {
    "collapsed": false,
    "ExecuteTime": {
     "end_time": "2023-12-12T14:57:34.118189Z",
     "start_time": "2023-12-12T14:57:34.111223Z"
    }
   },
   "id": "e40668cfa8cc00d4"
  },
  {
   "cell_type": "code",
   "execution_count": 39,
   "outputs": [],
   "source": [
    "corpus = [\"audentes forsque deusque iuvat\", \n",
    "          \"audentis fortuna iuvat, piger ipse sibi opstat\",\n",
    "          \"audentes in tela ruunt\",\n",
    "          \"audentes facit amissae spes lapsa salutis, succurruntque\"]\n",
    "tokenized_corpus = [tokenizer.encode(sentence, return_tensors=\"pt\") for sentence in corpus]"
   ],
   "metadata": {
    "collapsed": false,
    "ExecuteTime": {
     "end_time": "2023-12-12T15:01:23.398943Z",
     "start_time": "2023-12-12T15:01:23.387845Z"
    }
   },
   "id": "8a4cf21d278f738f"
  },
  {
   "cell_type": "code",
   "execution_count": 40,
   "outputs": [
    {
     "data": {
      "text/plain": "[tensor([[1127,  535, 5545,  135,  980,  135, 5073]]),\n tensor([[ 1127,   540,  1404,  5073,     6, 13307,    77,   694,   556,   302,\n           2740]]),\n tensor([[ 1127,   535,   108,  3670, 11563]]),\n tensor([[ 1127,   535,  2617,   225,  9007,  1808, 22673,  5871,     6,  2927,\n           1236,   157,   135]])]"
     },
     "execution_count": 40,
     "metadata": {},
     "output_type": "execute_result"
    }
   ],
   "source": [
    "tokenized_corpus"
   ],
   "metadata": {
    "collapsed": false,
    "ExecuteTime": {
     "end_time": "2023-12-12T15:01:27.892698Z",
     "start_time": "2023-12-12T15:01:27.885457Z"
    }
   },
   "id": "bba61b01a2b7c7ef"
  },
  {
   "cell_type": "code",
   "execution_count": null,
   "outputs": [],
   "source": [],
   "metadata": {
    "collapsed": false
   },
   "id": "4260a526ddb1e989"
  },
  {
   "cell_type": "code",
   "execution_count": null,
   "outputs": [],
   "source": [],
   "metadata": {
    "collapsed": false
   },
   "id": "abbef9ae368ea274"
  },
  {
   "cell_type": "code",
   "execution_count": null,
   "outputs": [],
   "source": [
    "for fn in os.listdir(\"../data/large_data/noscemus_raw\"):\n",
    "    try:\n",
    "        with open(\"../data/large_data/sents_lemmata/{}.txt\".format(fn), \"r\") as f:\n",
    "            text = f.read()\n",
    "        text = text_cleaner(text)\n",
    "        # text_sentence_vectors = []\n",
    "        # for each sentence in the text\n",
    "            # apply the bert vectors on it\n",
    "            # add the sentence to a list of vectorized sentences\n",
    "            # text_sentence_vectors.append()\n",
    "        # save the file vectors into its own folder or to sciencedata  (following \n",
    "    except:\n",
    "        pass"
   ],
   "metadata": {
    "collapsed": false
   },
   "id": "1605b976d363422c"
  },
  {
   "cell_type": "code",
   "execution_count": null,
   "outputs": [],
   "source": [
    "\n",
    "!python3 scripts/gen_berts.py --bertPath models/latin_bert/ --tokenizerPath models/subword_tokenizer_latin/latin.subword.encoder > berts.output.txt\n"
   ],
   "metadata": {
    "collapsed": false
   },
   "id": "7e46957b406793f5"
  }
 ],
 "metadata": {
  "kernelspec": {
   "name": "brewkernel",
   "language": "python",
   "display_name": "brewkernel"
  },
  "language_info": {
   "codemirror_mode": {
    "name": "ipython",
    "version": 2
   },
   "file_extension": ".py",
   "mimetype": "text/x-python",
   "name": "python",
   "nbconvert_exporter": "python",
   "pygments_lexer": "ipython2",
   "version": "2.7.6"
  }
 },
 "nbformat": 4,
 "nbformat_minor": 5
}
