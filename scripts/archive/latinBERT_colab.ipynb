{
 "nbformat": 4,
 "nbformat_minor": 0,
 "metadata": {
  "colab": {
   "provenance": [],
   "include_colab_link": true
  },
  "kernelspec": {
   "name": "python3",
   "display_name": "Python 3"
  },
  "language_info": {
   "name": "python"
  }
 },
 "cells": [
  {
   "cell_type": "markdown",
   "metadata": {
    "id": "view-in-github",
    "colab_type": "text"
   },
   "source": [
    "<a href=\"https://colab.research.google.com/github/CCS-ZCU/latin-contextual-embeddings/blob/master/scripts/latinBERT_colab.ipynb\" target=\"_parent\"><img src=\"https://colab.research.google.com/assets/colab-badge.svg\" alt=\"Open In Colab\"/></a>"
   ]
  },
  {
   "cell_type": "code",
   "source": [
    "import pandas as pd"
   ],
   "metadata": {
    "id": "ebLjpyUkwPcQ"
   },
   "execution_count": 1,
   "outputs": []
  },
  {
   "cell_type": "code",
   "source": [
    "%%capture\n",
    "!git clone https://github.com/dbamman/latin-bert.git\n",
    "!pip install -r ./latin-bert/requirements.txt"
   ],
   "metadata": {
    "id": "7opMykD3GnPR"
   },
   "execution_count": 2,
   "outputs": []
  },
  {
   "cell_type": "code",
   "source": [
    "from cltk.data.fetch import FetchCorpus\n",
    "corpus_downloader = FetchCorpus(language='lat')\n",
    "corpus_downloader.import_corpus('lat_models_cltk')"
   ],
   "metadata": {
    "colab": {
     "base_uri": "https://localhost:8080/"
    },
    "id": "_LNjpqH9Gruh",
    "outputId": "17407b38-0c83-410b-c083-545a1255bad2"
   },
   "execution_count": 3,
   "outputs": []
  },
  {
   "cell_type": "code",
   "source": [
    "%%capture\n",
    "!cd latin-bert && ./scripts/download.sh"
   ],
   "metadata": {
    "id": "A6EkDCeBG9jb"
   },
   "execution_count": 4,
   "outputs": []
  },
  {
   "cell_type": "code",
   "source": [
    "%%capture\n",
    "!cd latin-bert && python3 -v scripts/gen_berts.py --bertPath models/latin_bert/ --tokenizerPath models/subword_tokenizer_latin/latin.subword.encoder > ../berts.output.txt"
   ],
   "metadata": {
    "id": "fk6d1ZBzth4P"
   },
   "execution_count": null,
   "outputs": []
  },
  {
   "cell_type": "code",
   "source": [
    "with open(\"latin-bert/scripts/gen_berts.py\", \"r\") as file:\n",
    "    text = file.read()"
   ],
   "metadata": {
    "id": "77CCctmdv9Ax"
   },
   "execution_count": 16,
   "outputs": []
  },
  {
   "cell_type": "code",
   "source": [
    "text = text.replace(\"parser.add_argument(\\'-b\\', \\'--bertPath\\', help=\\'path to pre-trained BERT\\', required=True)\\n\\tparser.add_argument(\\'-t\\', \\'--tokenizerPath\\', help=\\'path to Latin WordPiece tokenizer\\', required=True)\\n\\t\",\n",
    "             \"parser.add_argument(\\'-b\\', \\'--bertPath\\', help=\\'path to pre-trained BERT\\', required=True)\\n\\tparser.add_argument(\\'-t\\', \\'--tokenizerPath\\', help=\\'path to Latin WordPiece tokenizer\\', required=True)\\n\\tparser.add_argument(\\'-s\\', \\'--sents\\', help=\\'path to file with sentences\\', required=True)\\n\\t\")\n"
   ],
   "metadata": {
    "id": "xJ28ajy7zBOy"
   },
   "execution_count": 18,
   "outputs": []
  },
  {
   "cell_type": "code",
   "source": [
    "orig = '\\n\\tsents=[\"arma virumque cano\", \"arma gravi numero violentaque bella parabam\"]\\n\\t'\n",
    "new = '\\n\\tsentsfile=args[\"sents\"]\\n\\twith open(sentsfile) as f:\\n\\t\\tsents = f.readlines()'\n",
    "text = text.replace(orig, new)"
   ],
   "metadata": {
    "id": "le8FVYNE1eCB"
   },
   "execution_count": 30,
   "outputs": []
  },
  {
   "cell_type": "code",
   "source": [
    "with open(\"latin-bert/scripts/gen_berts_modified.py\", \"w\") as file:\n",
    "    file.write(text)"
   ],
   "metadata": {
    "id": "_rxGafO30mmI"
   },
   "execution_count": 31,
   "outputs": []
  },
  {
   "cell_type": "code",
   "source": [
    "# TO-DO: apply the gen_berts_modified.py file\n",
    "%%capture\n",
    "!cd latin-bert && python3 -v scripts/gen_berts.py --bertPath models/latin_bert/ --tokenizerPath models/subword_tokenizer_latin/latin.subword.encoder > ../berts.output.txt\n"
   ],
   "metadata": {
    "id": "I7ialkqk7H8s"
   },
   "execution_count": null,
   "outputs": []
  },
  {
   "cell_type": "code",
   "source": [
    "bert_output = pd.read_csv(\"berts.output.txt\", sep=\" |\\t\", names=[\"token\"] + [str(n) for n in range(768)])\n",
    "bert_output"
   ],
   "metadata": {
    "id": "Y7zNC3BhwHAk",
    "outputId": "5770d30d-d719-49f3-d6e1-cf9fa2df4727",
    "colab": {
     "base_uri": "https://localhost:8080/",
     "height": 541
    }
   },
   "execution_count": null,
   "outputs": []
  },
  {
   "cell_type": "code",
   "source": [
    "bert_output.shape"
   ],
   "metadata": {
    "id": "P-TKNfR1xC7s",
    "outputId": "f86ea313-7078-4d7e-9140-0c3525f50cb2",
    "colab": {
     "base_uri": "https://localhost:8080/"
    }
   },
   "execution_count": null,
   "outputs": []
  },
  {
   "cell_type": "code",
   "source": [],
   "metadata": {
    "id": "Cn-tqKkZxVA6"
   },
   "execution_count": null,
   "outputs": []
  }
 ]
}
