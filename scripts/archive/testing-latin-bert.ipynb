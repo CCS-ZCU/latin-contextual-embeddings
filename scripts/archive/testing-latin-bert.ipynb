{
 "cells": [
  {
   "cell_type": "code",
   "execution_count": 2,
   "source": [
    "import shutil\n",
    "import re\n",
    "import os\n",
    "os.environ['TOKENIZERS_PARALLELISM'] = \"true\"\n",
    "from transformers import AutoTokenizer, AutoModelForMaskedLM\n",
    "from cltk.sentence.lat import LatinPunktSentenceTokenizer\n",
    "import torch\n",
    "from torch.nn.utils.rnn import pad_sequence"
   ],
   "metadata": {
    "collapsed": false,
    "ExecuteTime": {
     "end_time": "2024-01-17T09:21:32.293347Z",
     "start_time": "2024-01-17T09:21:05.343447Z"
    }
   },
   "id": "3148480dc117e454",
   "outputs": []
  },
  {
   "cell_type": "code",
   "execution_count": 3,
   "source": [
    "tokenizer = AutoTokenizer.from_pretrained(\"pnadel/latin_tokenizer\") #\"pnadel/LatinBERT\")\n",
    "model = AutoModelForMaskedLM.from_pretrained(\"pnadel/LatinBERT\")"
   ],
   "metadata": {
    "collapsed": false,
    "ExecuteTime": {
     "end_time": "2024-01-17T09:21:42.609464Z",
     "start_time": "2024-01-17T09:21:41.034253Z"
    }
   },
   "id": "1bc8946f36ef6aa7",
   "outputs": []
  },
  {
   "cell_type": "code",
   "execution_count": 4,
   "source": [
    "#!curl https://sciencedata.dk/public/87394f685b79e7f1ebd4a7ead2b4941c/noscemus_raw.zip -o ../data/large_data/noscemus_raw.zip\n",
    "# shutil.unpack_archive(\"../data/large_data/noscemus_raw.zip\", \"../data/large_data/noscemus_raw\")"
   ],
   "metadata": {
    "collapsed": true,
    "ExecuteTime": {
     "end_time": "2024-01-17T09:21:51.534127Z",
     "start_time": "2024-01-17T09:21:51.530815Z"
    }
   },
   "id": "initial_id",
   "outputs": []
  },
  {
   "cell_type": "code",
   "execution_count": 5,
   "source": [
    "def text_cleaner(rawtext):\n",
    "    cleantext = rawtext.replace(\"¬\\n\", \"\").replace(\"\\n\", \" \").replace(\"ß\", \"ss\").replace(\"ij\",\"ii\")\n",
    "    cleantext = \" \".join([t[0] + t[1:].lower() for t in cleantext.split()])\n",
    "    cleantext = re.sub(\"\\s\\s+\", \" \", cleantext)\n",
    "    return cleantext"
   ],
   "metadata": {
    "collapsed": false,
    "ExecuteTime": {
     "end_time": "2024-01-17T09:21:53.711340Z",
     "start_time": "2024-01-17T09:21:53.707728Z"
    }
   },
   "id": "eada64539581477b",
   "outputs": []
  },
  {
   "cell_type": "code",
   "execution_count": 6,
   "source": [
    "filenames = os.listdir(\"../data/large_data/noscemus_raw\")"
   ],
   "metadata": {
    "collapsed": false,
    "ExecuteTime": {
     "end_time": "2024-01-17T09:21:55.162594Z",
     "start_time": "2024-01-17T09:21:55.156579Z"
    }
   },
   "id": "d1f0328e6b4e23ca",
   "outputs": []
  },
  {
   "cell_type": "code",
   "execution_count": 10,
   "source": [
    "fn = filenames[3]\n",
    "fn"
   ],
   "metadata": {
    "collapsed": false,
    "ExecuteTime": {
     "end_time": "2024-01-17T09:22:21.910677Z",
     "start_time": "2024-01-17T09:22:21.905776Z"
    }
   },
   "id": "e9fb1e4b2e52a794",
   "outputs": []
  },
  {
   "cell_type": "code",
   "execution_count": 11,
   "source": [
    "with open(\"../data/large_data/noscemus_raw/\" + fn, \"r\") as f:\n",
    "    text = f.read()"
   ],
   "metadata": {
    "collapsed": false,
    "ExecuteTime": {
     "end_time": "2024-01-17T09:22:22.444469Z",
     "start_time": "2024-01-17T09:22:22.433815Z"
    }
   },
   "id": "c49fadb96cd8bf01",
   "outputs": []
  },
  {
   "cell_type": "code",
   "execution_count": 12,
   "source": [
    "text = text_cleaner(text)\n",
    "text[:200]"
   ],
   "metadata": {
    "collapsed": false,
    "ExecuteTime": {
     "end_time": "2024-01-17T09:22:22.897482Z",
     "start_time": "2024-01-17T09:22:22.889544Z"
    }
   },
   "id": "98182fc18229f0b7",
   "outputs": []
  },
  {
   "cell_type": "code",
   "execution_count": 13,
   "source": [
    "corpus = LatinPunktSentenceTokenizer().tokenize(text)\n",
    "corpus[1:4]"
   ],
   "metadata": {
    "collapsed": false,
    "ExecuteTime": {
     "end_time": "2024-01-17T09:22:26.918643Z",
     "start_time": "2024-01-17T09:22:26.620977Z"
    }
   },
   "id": "5fa4fc1758d53a2b",
   "outputs": []
  },
  {
   "cell_type": "code",
   "execution_count": 14,
   "source": [
    "#tokenizer.pad_token = tokenizer.eos_token\n",
    "tokenized_corpus = [tokenizer.encode(sentence, return_tensors=\"pt\") for sentence in corpus]"
   ],
   "metadata": {
    "collapsed": false,
    "ExecuteTime": {
     "end_time": "2024-01-17T09:22:35.447995Z",
     "start_time": "2024-01-17T09:22:34.678068Z"
    }
   },
   "id": "d7d0b284e39bc727",
   "outputs": []
  },
  {
   "cell_type": "code",
   "execution_count": 15,
   "source": [
    "tokenized_corpus[1:4]"
   ],
   "metadata": {
    "collapsed": false,
    "ExecuteTime": {
     "end_time": "2024-01-17T09:22:36.169135Z",
     "start_time": "2024-01-17T09:22:36.141387Z"
    }
   },
   "id": "258753bf0974f6bd",
   "outputs": []
  },
  {
   "cell_type": "code",
   "execution_count": 16,
   "source": [
    "max_len = max(len(seq[0]) for seq in tokenized_corpus)\n",
    "padded_corpus = torch.stack([torch.cat([seq, torch.zeros((1, max_len - len(seq[0])))], dim=1) for seq in tokenized_corpus])\n",
    "padded_corpus = padded_corpus.squeeze(1)\n",
    "padded_corpus = padded_corpus.long()"
   ],
   "metadata": {
    "collapsed": false,
    "ExecuteTime": {
     "end_time": "2024-01-17T09:22:59.229335Z",
     "start_time": "2024-01-17T09:22:59.123642Z"
    }
   },
   "id": "3073e76cc4cf36d8",
   "outputs": []
  },
  {
   "cell_type": "code",
   "execution_count": 17,
   "source": [
    "padded_corpus.shape"
   ],
   "metadata": {
    "collapsed": false,
    "ExecuteTime": {
     "end_time": "2024-01-17T09:23:00.128167Z",
     "start_time": "2024-01-17T09:23:00.125230Z"
    }
   },
   "id": "4c4efcc0ea097150",
   "outputs": []
  },
  {
   "cell_type": "code",
   "execution_count": 87,
   "source": [
    "# Pass the padded corpus through the model\n",
    "with torch.no_grad():\n",
    "    outputs = model(input_ids=padded_corpus)"
   ],
   "metadata": {
    "collapsed": false,
    "ExecuteTime": {
     "end_time": "2023-12-13T20:59:44.206921Z",
     "start_time": "2023-12-13T20:50:03.819562Z"
    }
   },
   "id": "11468d545ddd52c6",
   "outputs": []
  },
  {
   "cell_type": "code",
   "execution_count": 89,
   "source": [
    "hidden_states = outputs.hidden_states[-1]  # Access the last layer's hidden states\n"
   ],
   "metadata": {
    "collapsed": false,
    "ExecuteTime": {
     "end_time": "2023-12-13T21:01:20.789201Z",
     "start_time": "2023-12-13T21:01:20.700014Z"
    }
   },
   "id": "340bca485094bdbd",
   "outputs": []
  },
  {
   "cell_type": "code",
   "execution_count": 35,
   "source": [
    "mask_token_id = tokenizer.mask_token_id if tokenizer.mask_token_id is not None else tokenizer.add_tokens(\"[MASK]\")\n",
    "\n",
    "tokens = tokenizer.encode(text, return_tensors=\"pt\")"
   ],
   "metadata": {
    "collapsed": false,
    "ExecuteTime": {
     "end_time": "2023-12-12T14:57:09.954652Z",
     "start_time": "2023-12-12T14:57:09.941275Z"
    }
   },
   "id": "6c4b34663b497ff7",
   "outputs": []
  },
  {
   "cell_type": "code",
   "execution_count": 38,
   "source": [
    "masked_indices = torch.bernoulli(torch.full(tokens.shape, 0.15)).bool()\n",
    "masked_tokens = tokens.clone()\n",
    "# Use torch.where to replace masked tokens\n",
    "masked_tokens = torch.where(masked_indices, torch.tensor(mask_token_id), masked_tokens)"
   ],
   "metadata": {
    "collapsed": false,
    "ExecuteTime": {
     "end_time": "2023-12-12T14:57:34.118189Z",
     "start_time": "2023-12-12T14:57:34.111223Z"
    }
   },
   "id": "e40668cfa8cc00d4",
   "outputs": []
  },
  {
   "cell_type": "code",
   "execution_count": 39,
   "source": [
    "corpus = [\"audentes forsque deusque iuvat\", \n",
    "          \"audentis fortuna iuvat, piger ipse sibi opstat\",\n",
    "          \"audentes in tela ruunt\",\n",
    "          \"audentes facit amissae spes lapsa salutis, succurruntque\"]\n",
    "tokenized_corpus = [tokenizer.encode(sentence, return_tensors=\"pt\") for sentence in corpus]"
   ],
   "metadata": {
    "collapsed": false,
    "ExecuteTime": {
     "end_time": "2023-12-12T15:01:23.398943Z",
     "start_time": "2023-12-12T15:01:23.387845Z"
    }
   },
   "id": "8a4cf21d278f738f",
   "outputs": []
  },
  {
   "cell_type": "code",
   "execution_count": 40,
   "source": [
    "tokenized_corpus"
   ],
   "metadata": {
    "collapsed": false,
    "ExecuteTime": {
     "end_time": "2023-12-12T15:01:27.892698Z",
     "start_time": "2023-12-12T15:01:27.885457Z"
    }
   },
   "id": "bba61b01a2b7c7ef",
   "outputs": []
  },
  {
   "cell_type": "code",
   "execution_count": null,
   "source": [],
   "metadata": {
    "collapsed": false
   },
   "id": "4260a526ddb1e989",
   "outputs": []
  },
  {
   "cell_type": "code",
   "execution_count": null,
   "source": [],
   "metadata": {
    "collapsed": false
   },
   "id": "abbef9ae368ea274",
   "outputs": []
  },
  {
   "cell_type": "code",
   "execution_count": null,
   "source": [
    "for fn in os.listdir(\"../data/large_data/noscemus_raw\"):\n",
    "    try:\n",
    "        with open(\"../data/large_data/sents_lemmata/{}.txt\".format(fn), \"r\") as f:\n",
    "            text = f.read()\n",
    "        text = text_cleaner(text)\n",
    "        # text_sentence_vectors = []\n",
    "        # for each sentence in the text\n",
    "            # apply the bert vectors on it\n",
    "            # add the sentence to a list of vectorized sentences\n",
    "            # text_sentence_vectors.append()\n",
    "        # save the file vectors into its own folder or to sciencedata  (following \n",
    "    except:\n",
    "        pass"
   ],
   "metadata": {
    "collapsed": false
   },
   "id": "1605b976d363422c",
   "outputs": []
  },
  {
   "cell_type": "code",
   "execution_count": null,
   "source": [
    "\n",
    "!python3 scripts/gen_berts.py --bertPath models/latin_bert/ --tokenizerPath models/subword_tokenizer_latin/latin.subword.encoder > berts.output.txt\n"
   ],
   "metadata": {
    "collapsed": false
   },
   "id": "7e46957b406793f5",
   "outputs": []
  }
 ],
 "metadata": {
  "kernelspec": {
   "name": "brewkernel",
   "language": "python",
   "display_name": "brewkernel"
  },
  "language_info": {
   "codemirror_mode": {
    "name": "ipython",
    "version": 2
   },
   "file_extension": ".py",
   "mimetype": "text/x-python",
   "name": "python",
   "nbconvert_exporter": "python",
   "pygments_lexer": "ipython2",
   "version": "2.7.6"
  }
 },
 "nbformat": 4,
 "nbformat_minor": 5
}
