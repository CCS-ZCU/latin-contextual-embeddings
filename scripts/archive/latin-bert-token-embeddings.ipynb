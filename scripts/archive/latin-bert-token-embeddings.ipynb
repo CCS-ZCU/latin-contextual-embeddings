{
 "cells": [
  {
   "metadata": {
    "ExecuteTime": {
     "end_time": "2024-05-10T12:56:54.314069Z",
     "start_time": "2024-05-10T12:56:52.311655Z"
    }
   },
   "cell_type": "code",
   "source": [
    "# import basic libraries\n",
    "import os\n",
    "import numpy as np\n",
    "import pandas as pd\n",
    "import re\n",
    "import torch\n",
    "from sklearn.metrics.pairwise import cosine_similarity\n",
    "from sklearn.manifold import TSNE\n",
    "import pickle\n",
    "import plotly.graph_objects as go\n",
    "from collections import Counter\n",
    "import plotly.io as pio\n",
    "import pyperclip\n",
    "from sklearn.cluster import KMeans"
   ],
   "id": "aa7c961cfbf8ce2c",
   "execution_count": 1,
   "outputs": []
  },
  {
   "metadata": {
    "ExecuteTime": {
     "end_time": "2024-05-10T12:58:54.097022Z",
     "start_time": "2024-05-10T12:58:52.313979Z"
    }
   },
   "cell_type": "code",
   "source": [
    "# import the Czech BERT model\n",
    "from transformers import AutoTokenizer, AutoModel\n",
    "\n",
    "tokenizer = AutoTokenizer.from_pretrained(\"pnadel/latin_tokenizer\") #\"pnadel/LatinBERT\")\n",
    "if tokenizer.pad_token is None:\n",
    "    tokenizer.pad_token = tokenizer.eos_token\n",
    "\n",
    "model = AutoModel.from_pretrained(\"pnadel/LatinBERT\")"
   ],
   "id": "108c685dc4168b07",
   "execution_count": 4,
   "outputs": []
  },
  {
   "metadata": {},
   "cell_type": "markdown",
   "source": "# Test on artificial dataset",
   "id": "717b245a648d507"
  },
  {
   "metadata": {
    "ExecuteTime": {
     "end_time": "2024-05-10T12:58:45.370550Z",
     "start_time": "2024-05-10T12:58:45.367300Z"
    }
   },
   "cell_type": "code",
   "source": [
    "latin_sentences = [\n",
    "    \"liber\",\n",
    "    \"Liber est magister vitae.\",\n",
    "    \"Librum eius in mensa videre potes.\",\n",
    "    \"Liber pecuniae multa fortunam facit.\",\n",
    "    \"Librum legere amo, ut in alium mundum evadam.\",\n",
    "    \"Amicus librum est amicus æternum.\",\n",
    "    \"Liber naturae res omnes sustentat.\",\n",
    "    \"Amor liber est, non vinculum.\",\n",
    "    \"Invenire teipsum in libris est invenire thesaurum.\",\n",
    "    \"Liber curiositatis est via ad sapientiam.\",\n",
    "    \"Lux in libro quaerenda est, non in lectulo.\"\n",
    "]"
   ],
   "id": "2168013bcda19f78",
   "execution_count": 2,
   "outputs": []
  },
  {
   "metadata": {},
   "cell_type": "markdown",
   "source": [
    "The following code does this:\n",
    "* For each document, wload a text file with sentences containing the target term (e.g. \"liber\"). These files contain a sentence per line.\n",
    "* Go throuh each sentence in the list of sentences and for each \n",
    "    * Apply BERT tokenizer on the sentence (see `sentence_data[\"sentence_tokens\"]`).\n",
    "    * Assign sentence-level BERT embedding to it, averaging the last hidden state layer of the model (see `sentence_data[\"sentence_embeddings\"]`).\n",
    "    * Assing token-level BERT embedding to each token (see `sentence_data[\"sentence_token_embeddings\"]`). \n",
    "    * Select the embedding of the  target term and save it separately (see `sentence_data[\"target_embedding\"]`\n",
    "    * Assign additional metadata to each sentence based on the source document."
   ],
   "id": "e68b00b31d97d86c"
  },
  {
   "metadata": {
    "ExecuteTime": {
     "end_time": "2024-05-10T12:58:58.053062Z",
     "start_time": "2024-05-10T12:58:58.040458Z"
    }
   },
   "cell_type": "code",
   "source": [
    "sent = latin_sentences[0]\n",
    "inputs = tokenizer(sent, return_tensors='pt', padding=True, truncation=True, max_length=512)\n",
    "inputs"
   ],
   "id": "9b8ba1992d740dfd",
   "execution_count": 5,
   "outputs": []
  },
  {
   "metadata": {
    "ExecuteTime": {
     "end_time": "2024-05-10T12:58:59.592552Z",
     "start_time": "2024-05-10T12:58:59.589256Z"
    }
   },
   "cell_type": "code",
   "source": "tokenizer.convert_ids_to_tokens(inputs['input_ids'][0])",
   "id": "5a849cb83c9d02a4",
   "execution_count": 6,
   "outputs": []
  },
  {
   "metadata": {
    "ExecuteTime": {
     "end_time": "2024-05-10T12:59:02.919066Z",
     "start_time": "2024-05-10T12:59:02.914772Z"
    }
   },
   "cell_type": "code",
   "source": [
    "def get_embeddings_data(sent, target):\n",
    "            inputs = tokenizer(sent.lower(), return_tensors='pt', padding=True, truncation=True, max_length=512)\n",
    "            # Convert input_ids to actual tokens\n",
    "            sentence_data = {}\n",
    "            sentence_data[\"sentence\"] = sent\n",
    "            sentence_data[\"sentence_tokens\"] = tokenizer.convert_ids_to_tokens(inputs['input_ids'][0])\n",
    "            sentence_data[\"token_ids\"] = inputs['input_ids'][0].tolist()\n",
    "\n",
    "            with torch.no_grad():\n",
    "                outputs = model(**inputs)\n",
    "                sentence_data[\"sentence_embeddings\"] = outputs.last_hidden_state.mean(dim=1)\n",
    "                sentence_data[\"sentence_token_embeddings\"] = outputs.last_hidden_state[0].numpy()\n",
    "            # embedding for a target term\n",
    "            for idx, token in enumerate(sentence_data[\"sentence_tokens\"]):\n",
    "                if re.search(target, token, re.IGNORECASE):\n",
    "                    sentence_data[\"target_embedding\"] = sentence_data[\"sentence_token_embeddings\"][idx]\n",
    "            return sentence_data"
   ],
   "id": "d615d658291d560",
   "execution_count": 7,
   "outputs": []
  },
  {
   "metadata": {
    "ExecuteTime": {
     "end_time": "2024-05-10T12:59:04.122836Z",
     "start_time": "2024-05-10T12:59:04.119980Z"
    }
   },
   "cell_type": "code",
   "source": [
    "target = \"lib(er|ri|rum|ro)\"\n",
    "for sent in latin_sentences:\n",
    "    print(re.search(target, sent, re.IGNORECASE))"
   ],
   "id": "c93349568c109e91",
   "execution_count": 8,
   "outputs": []
  },
  {
   "metadata": {
    "ExecuteTime": {
     "end_time": "2024-05-10T12:59:07.361301Z",
     "start_time": "2024-05-10T12:59:07.120042Z"
    }
   },
   "cell_type": "code",
   "source": [
    "target = \"lib(er|ri|rum|ro)\"\n",
    "sentence_data = get_embeddings_data(latin_sentences[0], target)"
   ],
   "id": "1807e8530fac7878",
   "execution_count": 9,
   "outputs": []
  },
  {
   "metadata": {
    "ExecuteTime": {
     "end_time": "2024-05-10T12:59:09.407397Z",
     "start_time": "2024-05-10T12:59:09.395734Z"
    }
   },
   "cell_type": "code",
   "source": "sentence_data # [\"sentence_tokens\"]",
   "id": "4dc861e111b5f820",
   "execution_count": 10,
   "outputs": []
  },
  {
   "metadata": {
    "ExecuteTime": {
     "end_time": "2024-05-02T11:37:01.902485Z",
     "start_time": "2024-05-02T11:37:00.882412Z"
    }
   },
   "cell_type": "code",
   "source": [
    "data = []\n",
    "target = \"lib(er|ri|rum|ro)\"\n",
    "for sent in latin_sentences:\n",
    "    try:\n",
    "        data.append(get_embeddings_data(sent, target))\n",
    "    except:\n",
    "        pass"
   ],
   "id": "b3238536572a477d",
   "execution_count": 11,
   "outputs": []
  },
  {
   "metadata": {
    "ExecuteTime": {
     "end_time": "2024-05-02T11:37:05.255015Z",
     "start_time": "2024-05-02T11:37:05.249902Z"
    }
   },
   "cell_type": "code",
   "source": "len(data)",
   "id": "ac2d195d5e207031",
   "execution_count": 12,
   "outputs": []
  },
  {
   "metadata": {
    "ExecuteTime": {
     "end_time": "2024-05-02T11:50:39.892634Z",
     "start_time": "2024-05-02T11:50:39.884244Z"
    }
   },
   "cell_type": "code",
   "source": [
    "tokens = data[2][\"sentence_tokens\"]\n",
    "tokens"
   ],
   "id": "d872054b4ad4e41a",
   "execution_count": 22,
   "outputs": []
  },
  {
   "metadata": {
    "ExecuteTime": {
     "end_time": "2024-05-02T11:50:46.357414Z",
     "start_time": "2024-05-02T11:50:46.352025Z"
    }
   },
   "cell_type": "code",
   "source": "('').join(token.replace('Ġ', ' ') for token in tokens)",
   "id": "d2fd0b674686f3c5",
   "execution_count": 23,
   "outputs": []
  },
  {
   "metadata": {
    "ExecuteTime": {
     "end_time": "2024-04-25T10:08:01.596921Z",
     "start_time": "2024-04-25T10:08:01.594366Z"
    }
   },
   "cell_type": "code",
   "source": [
    "data  = [d for d in data if \"target_embedding\" in d.keys()]\n",
    "len(data)"
   ],
   "id": "793b60c0078f60ed",
   "execution_count": 12,
   "outputs": []
  },
  {
   "metadata": {
    "ExecuteTime": {
     "end_time": "2024-04-25T10:08:04.298873Z",
     "start_time": "2024-04-25T10:08:04.295127Z"
    }
   },
   "cell_type": "code",
   "source": [
    "data  = [d for d in data if \"target_embedding\" in d.keys()]\n",
    "target_vectors = [d[\"target_embedding\"] for d in data]\n",
    "sentences = [d[\"sentence\"] for d in data]\n",
    "\n",
    "target_embeddings = np.vstack(target_vectors)\n",
    "cosine_sim_matrix = pd.DataFrame(cosine_similarity(target_embeddings), index=sentences, columns=sentences)"
   ],
   "id": "5d93064bc5b39c32",
   "execution_count": 13,
   "outputs": []
  },
  {
   "metadata": {
    "ExecuteTime": {
     "end_time": "2024-04-25T10:08:05.653808Z",
     "start_time": "2024-04-25T10:08:05.645768Z"
    }
   },
   "cell_type": "code",
   "source": "cosine_sim_matrix",
   "id": "959ff50f38d79eb0",
   "execution_count": 14,
   "outputs": []
  },
  {
   "metadata": {},
   "cell_type": "code",
   "execution_count": null,
   "source": [
    "fig, ax = plt.subplots(figsize=(10, 10))  # You may want to adjust the size depending on your similarity matrix\n",
    "cax = ax.matshow(cosine_sim_matrix, cmap='coolwarm')  # Change colormap here\n",
    "plt.title('Cosine Similarity Matrix')\n",
    "fig.colorbar(cax)\n",
    "plt.xticks(np.arange(len(sentences)), sentences,\n",
    "           rotation=90)  # Rotating x labels may help prevent them from overlapping\n",
    "plt.yticks(np.arange(len(sentences)), sentences)\n",
    "plt.show()"
   ],
   "id": "cace1ef7f1b9f37a",
   "outputs": []
  },
  {
   "metadata": {
    "ExecuteTime": {
     "end_time": "2024-04-17T11:12:51.284941Z",
     "start_time": "2024-04-17T11:12:51.278784Z"
    }
   },
   "cell_type": "code",
   "source": "data[0][\"target_embedding\"]",
   "id": "a62dc9d6ccf8309c",
   "execution_count": 33,
   "outputs": []
  },
  {
   "metadata": {},
   "cell_type": "markdown",
   "source": " # Has to be modified for working with the latin data...",
   "id": "3a4d79a3c3318e0b"
  },
  {
   "metadata": {
    "ExecuteTime": {
     "end_time": "2024-04-04T20:45:24.528825Z",
     "start_time": "2024-04-04T20:45:21.974122Z"
    }
   },
   "cell_type": "code",
   "source": [
    "k = 5\n",
    "kmeans = KMeans(n_clusters=k, random_state=0).fit(target_vectors)\n",
    "labels = kmeans.labels_"
   ],
   "id": "10bd14e5272e5f81",
   "execution_count": 12,
   "outputs": []
  },
  {
   "metadata": {
    "ExecuteTime": {
     "end_time": "2024-04-04T20:45:38.514811Z",
     "start_time": "2024-04-04T20:45:38.511664Z"
    }
   },
   "cell_type": "code",
   "source": "len(labels)",
   "id": "57c391e0b42daf02",
   "execution_count": 13,
   "outputs": []
  },
  {
   "metadata": {
    "ExecuteTime": {
     "end_time": "2024-04-04T20:46:06.719071Z",
     "start_time": "2024-04-04T20:46:06.715964Z"
    }
   },
   "cell_type": "code",
   "source": "print(labels[:20])",
   "id": "e99081536c832e32",
   "execution_count": 14,
   "outputs": []
  },
  {
   "metadata": {
    "ExecuteTime": {
     "end_time": "2024-04-04T20:53:49.321686Z",
     "start_time": "2024-04-04T20:53:49.302594Z"
    }
   },
   "cell_type": "code",
   "source": [
    "cluster_colors = {0: \"#1f77b4\",  # muted blue\n",
    "                  1: \"#ff7f0e\",  # safety orange\n",
    "                  2: \"#2ca02c\",  # cooked asparagus green\n",
    "                  3: \"#d62728\",  # brick red\n",
    "                  4: \"#9467bd\"}  # muted purple"
   ],
   "id": "cd86422bdde959b0",
   "execution_count": 15,
   "outputs": []
  },
  {
   "metadata": {
    "ExecuteTime": {
     "end_time": "2024-04-04T20:54:21.345100Z",
     "start_time": "2024-04-04T20:54:21.341629Z"
    }
   },
   "cell_type": "code",
   "source": "colors = [cluster_colors[l] for l in labels]",
   "id": "adecb1dd9235255f",
   "execution_count": 16,
   "outputs": []
  },
  {
   "metadata": {
    "ExecuteTime": {
     "end_time": "2024-04-04T20:54:25.561545Z",
     "start_time": "2024-04-04T20:54:25.514907Z"
    }
   },
   "cell_type": "code",
   "source": [
    "target_embeddings = np.vstack(target_vectors)\n",
    "cosine_sim_matrix = pd.DataFrame(cosine_similarity(target_embeddings), index=sentences, columns=sentences)"
   ],
   "id": "934add198955f03c",
   "execution_count": 17,
   "outputs": []
  },
  {
   "metadata": {
    "ExecuteTime": {
     "end_time": "2024-04-04T20:54:27.026896Z",
     "start_time": "2024-04-04T20:54:27.021371Z"
    }
   },
   "cell_type": "code",
   "source": "cosine_sim_matrix.iloc[8].sort_values(ascending=False)",
   "id": "e3a993d9bc23c01",
   "execution_count": 18,
   "outputs": []
  },
  {
   "metadata": {
    "ExecuteTime": {
     "end_time": "2024-04-04T20:56:09.801917Z",
     "start_time": "2024-04-04T20:56:01.384684Z"
    }
   },
   "cell_type": "code",
   "source": [
    "tsne = TSNE(n_components=3, perplexity=5)\n",
    "embeddings_tsne = tsne.fit_transform(np.vstack(target_vectors))"
   ],
   "id": "af301f334a9574e1",
   "execution_count": 22,
   "outputs": []
  },
  {
   "metadata": {
    "ExecuteTime": {
     "end_time": "2024-04-04T20:56:09.805738Z",
     "start_time": "2024-04-04T20:56:09.803548Z"
    }
   },
   "cell_type": "code",
   "source": [
    "xs = embeddings_tsne[:, 0]\n",
    "ys = embeddings_tsne[:, 1]\n",
    "zs = embeddings_tsne[:, 2]"
   ],
   "id": "860fb41d877cc555",
   "execution_count": 23,
   "outputs": []
  },
  {
   "metadata": {
    "ExecuteTime": {
     "end_time": "2024-04-04T20:56:09.888609Z",
     "start_time": "2024-04-04T20:56:09.819452Z"
    }
   },
   "cell_type": "code",
   "source": [
    "title = \"Sentences with 'bezpečí' (N={})\".format(len(sentences))\n",
    "fig = go.Figure(data=go.Scatter3d(\n",
    "    x=xs,\n",
    "    y=ys,\n",
    "    z=zs,\n",
    "    mode='markers',\n",
    "    marker=dict(\n",
    "        size=5,\n",
    "        color=colors,\n",
    "        opacity=0.3\n",
    "    ),\n",
    "    text=hover_text,  # use mapped hover text\n",
    "    hoverinfo='text',  # ensure only the text field is displayed on hover\n",
    "))\n",
    "\n",
    "fig.update_layout(\n",
    "    title=title,\n",
    "    scene=dict(\n",
    "        xaxis=dict(title='', showgrid=False, showline=False, showticklabels=False, zeroline=False, linecolor='rgba(0,0,0,0)'),\n",
    "        yaxis=dict(title='', showgrid=False, showline=False, showticklabels=False, zeroline=False, linecolor='rgba(0,0,0,0)'),\n",
    "        zaxis=dict(title='', showgrid=False, showline=False, showticklabels=False, zeroline=False, linecolor='rgba(0,0,0,0)'),\n",
    "        bgcolor='rgba(255,255,255,0)'\n",
    "    ),\n",
    "    paper_bgcolor='rgba(255,255,255,255)',  # set the color of the area around the axes\n",
    "    plot_bgcolor='rgba(255,255,255,255)',  # set the color of the entire chart\n",
    "    autosize=False,\n",
    "    width=1000,\n",
    "    height=800,\n",
    "    margin=dict(l=0, r=0, b=0, t=0)\n",
    ")\n"
   ],
   "id": "c22f30d289b7794a",
   "execution_count": 24,
   "outputs": []
  },
  {
   "metadata": {
    "ExecuteTime": {
     "end_time": "2024-04-04T20:57:28.809140Z",
     "start_time": "2024-04-04T20:57:28.762371Z"
    }
   },
   "cell_type": "code",
   "source": [
    "html_code = pio.to_html(fig, include_plotlyjs='cdn')\n",
    "pyperclip.copy(html_code)"
   ],
   "id": "fc45026fd242ba2f",
   "execution_count": 25,
   "outputs": []
  },
  {
   "metadata": {
    "ExecuteTime": {
     "end_time": "2024-04-04T21:01:10.388911Z",
     "start_time": "2024-04-04T21:01:10.289353Z"
    }
   },
   "cell_type": "code",
   "source": [
    "colors = [\"green\" if x==\"exil\" else \"red\" for x in periodical_categories]\n",
    "title = \"Sentences with 'bezpečí' (N={})\".format(len(sentences))\n",
    "fig = go.Figure(data=go.Scatter3d(\n",
    "    x=xs,\n",
    "    y=ys,\n",
    "    z=zs,\n",
    "    mode='markers',\n",
    "    marker=dict(\n",
    "        size=5,\n",
    "        color=colors,\n",
    "        opacity=0.3\n",
    "    ),\n",
    "    text=hover_text,  # use mapped hover text\n",
    "    hoverinfo='text',  # ensure only the text field is displayed on hover\n",
    "))\n",
    "\n",
    "fig.update_layout(\n",
    "    title=title,\n",
    "    scene=dict(\n",
    "        xaxis=dict(title='', showgrid=False, showline=False, showticklabels=False, zeroline=False, linecolor='rgba(0,0,0,0)'),\n",
    "        yaxis=dict(title='', showgrid=False, showline=False, showticklabels=False, zeroline=False, linecolor='rgba(0,0,0,0)'),\n",
    "        zaxis=dict(title='', showgrid=False, showline=False, showticklabels=False, zeroline=False, linecolor='rgba(0,0,0,0)'),\n",
    "        bgcolor='rgba(255,255,255,0)'\n",
    "    ),\n",
    "    paper_bgcolor='rgba(255,255,255,255)',  # set the color of the area around the axes\n",
    "    plot_bgcolor='rgba(255,255,255,255)',  # set the color of the entire chart\n",
    "    autosize=False,\n",
    "    width=1000,\n",
    "    height=800,\n",
    "    margin=dict(l=0, r=0, b=0, t=0)\n",
    ")"
   ],
   "id": "4b616029d9e4ed1a",
   "execution_count": 26,
   "outputs": []
  },
  {
   "metadata": {
    "ExecuteTime": {
     "end_time": "2024-04-04T21:01:17.348361Z",
     "start_time": "2024-04-04T21:01:17.310090Z"
    }
   },
   "cell_type": "code",
   "source": [
    "html_code = pio.to_html(fig, include_plotlyjs='cdn')\n",
    "pyperclip.copy(html_code)"
   ],
   "id": "389ae64eafb8fa9a",
   "execution_count": 27,
   "outputs": []
  },
  {
   "metadata": {},
   "cell_type": "markdown",
   "source": "### Analysis of \"bezpečnost\" embeddings",
   "id": "2de173d3ab4d5311"
  },
  {
   "metadata": {
    "ExecuteTime": {
     "end_time": "2024-04-03T21:41:48.235964Z",
     "start_time": "2024-04-03T21:18:58.951264Z"
    }
   },
   "cell_type": "code",
   "source": [
    "%%time\n",
    "input_path = \"../data/rawsentences_bezpecnost/\"\n",
    "output_dir = \"../data/embeddings_bezpecnost/\"\n",
    "try:\n",
    "    os.mkdir(output_dir)\n",
    "except:\n",
    "    pass\n",
    "target = r\"bezpečnost[ií]?\"\n",
    "files_df.apply(lambda row: get_embeddings_data(row, target, output_dir), axis=1)"
   ],
   "id": "24a3734c851013b2",
   "execution_count": 90,
   "outputs": []
  },
  {
   "metadata": {
    "ExecuteTime": {
     "end_time": "2024-04-04T21:17:28.047598Z",
     "start_time": "2024-04-04T21:17:21.760612Z"
    }
   },
   "cell_type": "code",
   "source": [
    "data = []\n",
    "for filename in os.listdir(\"../data/embeddings_bezpecnost/\"):\n",
    "    data.extend(pickle.load(open(\"../data/embeddings_bezpecnost/\" + filename, \"rb\")))\n",
    "\n",
    "# filter by year\n",
    "data = [d for d in data if 1948 <= d[\"year\"] <= 1989]\n",
    "\n",
    "target_vectors = [d[\"target_embedding\"] for d in data]\n",
    "sentences = [d[\"sentence\"] for d in data]\n",
    "periodical_categories = [d[\"periodical_category\"] for d in data]\n",
    "colors = [\"green\" if x==\"exil\" else \"red\" for x in periodical_categories]\n",
    "hover_text = [d[\"sentence\"].replace(\"\\n\", \"\") + \" ({0}, {1}, {2})\".format(d[\"periodical_title\"], str(d[\"year\"]).replace(\".0\", \"\"), d[\"periodical_category\"])\n",
    "              for d in data]"
   ],
   "id": "ed41b7ee0370db0d",
   "execution_count": 29,
   "outputs": []
  },
  {
   "metadata": {
    "ExecuteTime": {
     "end_time": "2024-04-04T21:17:30.349942Z",
     "start_time": "2024-04-04T21:17:30.344913Z"
    }
   },
   "cell_type": "code",
   "source": "Counter(periodical_categories)",
   "id": "4c608aac96b05821",
   "execution_count": 30,
   "outputs": []
  },
  {
   "metadata": {
    "ExecuteTime": {
     "end_time": "2024-04-04T21:19:14.685770Z",
     "start_time": "2024-04-04T21:17:37.421050Z"
    }
   },
   "cell_type": "code",
   "source": [
    "tsne = TSNE(n_components=3, perplexity=5)\n",
    "embeddings_tsne = tsne.fit_transform(np.vstack(target_vectors))"
   ],
   "id": "1f5d5f7ee6a961bb",
   "execution_count": 31,
   "outputs": []
  },
  {
   "metadata": {
    "ExecuteTime": {
     "end_time": "2024-04-03T21:44:07.662484Z",
     "start_time": "2024-04-03T21:44:07.658239Z"
    }
   },
   "cell_type": "code",
   "source": [
    "xs = embeddings_tsne[:, 0]\n",
    "ys = embeddings_tsne[:, 1]\n",
    "zs = embeddings_tsne[:, 2]"
   ],
   "id": "6c1e2d7370d3f04",
   "execution_count": 94,
   "outputs": []
  },
  {
   "metadata": {
    "ExecuteTime": {
     "end_time": "2024-04-03T21:45:31.209362Z",
     "start_time": "2024-04-03T21:45:30.011041Z"
    }
   },
   "cell_type": "code",
   "source": [
    "title = \"Sentences with 'bezpečnost' (N={})\".format(len(sentences))\n",
    "fig = go.Figure(data=go.Scatter3d(\n",
    "    x=xs,\n",
    "    y=ys,\n",
    "    z=zs,\n",
    "    mode='markers',\n",
    "    marker=dict(\n",
    "        size=5,\n",
    "        color=colors,\n",
    "        opacity=0.3\n",
    "    ),\n",
    "    text=hover_text,  # use mapped hover text\n",
    "    hoverinfo='text',  # ensure only the text field is displayed on hover\n",
    "))\n",
    "\n",
    "fig.update_layout(\n",
    "    title=title,\n",
    "    scene=dict(\n",
    "        xaxis=dict(title='', showgrid=False, showline=False, showticklabels=False, zeroline=False, linecolor='rgba(0,0,0,0)'),\n",
    "        yaxis=dict(title='', showgrid=False, showline=False, showticklabels=False, zeroline=False, linecolor='rgba(0,0,0,0)'),\n",
    "        zaxis=dict(title='', showgrid=False, showline=False, showticklabels=False, zeroline=False, linecolor='rgba(0,0,0,0)'),\n",
    "        bgcolor='rgba(255,255,255,0)'\n",
    "    ),\n",
    "    paper_bgcolor='rgba(255,255,255,255)',  # set the color of the area around the axes\n",
    "    plot_bgcolor='rgba(255,255,255,255)',  # set the color of the entire chart\n",
    "    autosize=False,\n",
    "    width=1000,\n",
    "    height=800,\n",
    "    margin=dict(l=0, r=0, b=0, t=0)\n",
    ")\n"
   ],
   "id": "22871b7a229ac5ad",
   "execution_count": 95,
   "outputs": []
  },
  {
   "metadata": {
    "ExecuteTime": {
     "end_time": "2024-04-03T21:45:59.327873Z",
     "start_time": "2024-04-03T21:45:59.142483Z"
    }
   },
   "cell_type": "code",
   "source": [
    "html_code = pio.to_html(fig, include_plotlyjs='cdn')\n",
    "pyperclip.copy(html_code)"
   ],
   "id": "e2519f063e325a43",
   "execution_count": 96,
   "outputs": []
  },
  {
   "metadata": {
    "ExecuteTime": {
     "end_time": "2024-04-04T21:19:14.964837Z",
     "start_time": "2024-04-04T21:19:14.688354Z"
    }
   },
   "cell_type": "code",
   "source": [
    "data = [d for d in data if d[\"periodical_category\"] == \"samizdat\"]\n",
    "\n",
    "target_vectors = [d[\"target_embedding\"] for d in data]\n",
    "sentences = [d[\"sentence\"] for d in data]\n",
    "periodical_categories = [d[\"periodical_category\"] for d in data]\n",
    "colors = [\"green\" if x==\"exil\" else \"red\" for x in periodical_categories]\n",
    "hover_text = [d[\"sentence\"].replace(\"\\n\", \"\") + \" ({0}, {1}, {2})\".format(d[\"periodical_title\"], str(d[\"year\"]).replace(\".0\", \"\"), d[\"periodical_category\"])\n",
    "              for d in data]"
   ],
   "id": "a317c4599e4c830e",
   "execution_count": 32,
   "outputs": []
  },
  {
   "metadata": {
    "ExecuteTime": {
     "end_time": "2024-04-04T21:23:24.607975Z",
     "start_time": "2024-04-04T21:23:22.707643Z"
    }
   },
   "cell_type": "code",
   "source": [
    "k = 5\n",
    "kmeans = KMeans(n_clusters=k, random_state=0).fit(target_vectors)\n",
    "labels = kmeans.labels_\n",
    "cluster_colors = {0: \"#1f77b4\",  # muted blue\n",
    "                  1: \"#ff7f0e\",  # safety orange\n",
    "                  2: \"#2ca02c\",  # cooked asparagus green\n",
    "                  3: \"#d62728\",  # brick red\n",
    "                  4: \"#9467bd\"}  # muted purple\n",
    "colors = [cluster_colors[l] for l in labels]"
   ],
   "id": "45c5b48cd5caceb4",
   "execution_count": 42,
   "outputs": []
  },
  {
   "metadata": {
    "ExecuteTime": {
     "end_time": "2024-04-04T21:23:42.362107Z",
     "start_time": "2024-04-04T21:23:33.496357Z"
    }
   },
   "cell_type": "code",
   "source": [
    "tsne = TSNE(n_components=3, perplexity=3)\n",
    "embeddings_tsne = tsne.fit_transform(np.vstack(target_vectors))"
   ],
   "id": "7b1ce2e8e2b4e35e",
   "execution_count": 43,
   "outputs": []
  },
  {
   "metadata": {
    "ExecuteTime": {
     "end_time": "2024-04-04T21:23:43.206031Z",
     "start_time": "2024-04-04T21:23:43.203789Z"
    }
   },
   "cell_type": "code",
   "source": [
    "xs = embeddings_tsne[:, 0]\n",
    "ys = embeddings_tsne[:, 1]\n",
    "zs = embeddings_tsne[:, 2]"
   ],
   "id": "46cfbceec6731d2c",
   "execution_count": 44,
   "outputs": []
  },
  {
   "metadata": {
    "ExecuteTime": {
     "end_time": "2024-04-04T21:44:25.653104Z",
     "start_time": "2024-04-04T21:44:25.517731Z"
    }
   },
   "cell_type": "code",
   "source": [
    "title = \"Sentences with 'bezpečnost' (N={})\".format(len(sentences))\n",
    "fig = go.Figure(data=go.Scatter3d(\n",
    "    x=xs,\n",
    "    y=ys,\n",
    "    z=zs,\n",
    "    mode='markers',\n",
    "    marker=dict(\n",
    "        size=5,\n",
    "        color=colors,\n",
    "        opacity=0.3\n",
    "    ),\n",
    "    text=hover_text,  # use mapped hover text\n",
    "    hoverinfo='text',  # ensure only the text field is displayed on hover\n",
    "))\n",
    "\n",
    "fig.update_layout(\n",
    "    title=title,\n",
    "    scene=dict(\n",
    "        xaxis=dict(title='', showgrid=False, showline=False, showticklabels=False, zeroline=False, linecolor='rgba(0,0,0,0)'),\n",
    "        yaxis=dict(title='', showgrid=False, showline=False, showticklabels=False, zeroline=False, linecolor='rgba(0,0,0,0)'),\n",
    "        zaxis=dict(title='', showgrid=False, showline=False, showticklabels=False, zeroline=False, linecolor='rgba(0,0,0,0)'),\n",
    "        bgcolor='rgba(255,255,255,0)'\n",
    "    ),\n",
    "    paper_bgcolor='rgba(255,255,255,255)',  # set the color of the area around the axes\n",
    "    plot_bgcolor='rgba(255,255,255,255)',  # set the color of the entire chart\n",
    "    autosize=False,\n",
    "    width=1000,\n",
    "    height=800,\n",
    "    margin=dict(l=0, r=0, b=0, t=0)\n",
    ")"
   ],
   "id": "984b21caf9e4dca",
   "execution_count": 51,
   "outputs": []
  },
  {
   "metadata": {
    "ExecuteTime": {
     "end_time": "2024-04-04T21:46:45.056724Z",
     "start_time": "2024-04-04T21:46:45.000728Z"
    }
   },
   "cell_type": "code",
   "source": [
    "html_code = pio.to_html(fig, include_plotlyjs='cdn')\n",
    "pyperclip.copy(html_code)"
   ],
   "id": "bff938285c2e2d22",
   "execution_count": 53,
   "outputs": []
  },
  {
   "metadata": {},
   "cell_type": "code",
   "execution_count": null,
   "source": "",
   "id": "8dd7770191d41cdc",
   "outputs": []
  }
 ],
 "metadata": {
  "kernelspec": {
   "display_name": "brewkernel",
   "language": "python",
   "name": "brewkernel"
  },
  "language_info": {
   "codemirror_mode": {
    "name": "ipython",
    "version": 2
   },
   "file_extension": ".py",
   "mimetype": "text/x-python",
   "name": "python",
   "nbconvert_exporter": "python",
   "pygments_lexer": "ipython2",
   "version": "2.7.6"
  }
 },
 "nbformat": 4,
 "nbformat_minor": 5
}
